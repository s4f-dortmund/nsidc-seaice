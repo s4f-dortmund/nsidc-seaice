{
 "cells": [
  {
   "cell_type": "code",
   "execution_count": null,
   "metadata": {},
   "outputs": [],
   "source": [
    "import pandas as pd\n",
    "import matplotlib.pyplot as plt\n",
    "import numpy as np\n",
    "%matplotlib inline"
   ]
  },
  {
   "cell_type": "code",
   "execution_count": null,
   "metadata": {},
   "outputs": [],
   "source": [
    "dfs = pd.read_csv('data/2019-06-26/S_seaice_extent_daily_v3.0.csv', skiprows=[1])\n",
    "dfn = pd.read_csv('data/2019-06-26/N_seaice_extent_daily_v3.0.csv', skiprows=[1])\n",
    "\n",
    "dfs.columns = ['Year', 'Month', 'Day', 'Extent', 'Missing', 'Source Data']\n",
    "dfn.columns = ['Year', 'Month', 'Day', 'Extent', 'Missing', 'Source Data']\n",
    "\n",
    "dfs['date'] = pd.to_datetime(dfs['Year']*10000+dfs['Month']*100+dfs['Day'],format='%Y%m%d')\n",
    "dfn['date'] = pd.to_datetime(dfn['Year']*10000+dfn['Month']*100+dfn['Day'],format='%Y%m%d')\n",
    "\n",
    "dfn.index=dfn['date']\n",
    "dfn = dfn.resample('2D').mean()\n",
    "\n",
    "dfs.index=dfs['date']\n",
    "dfs = dfs.resample('2D').mean()"
   ]
  },
  {
   "cell_type": "code",
   "execution_count": null,
   "metadata": {},
   "outputs": [],
   "source": [
    "plt.figure(figsize=(8,4), dpi=150)\n",
    "\n",
    "plt.plot(dfn.index,dfn['Extent'].rolling(182).mean(), label='northern')\n",
    "\n",
    "plt.fill_between(\n",
    "    dfn.index,\n",
    "    dfn['Extent'].rolling(182).mean()+dfn['Extent'].rolling(182).std()/np.sqrt(182),\n",
    "    dfn['Extent'].rolling(182).mean()-dfn['Extent'].rolling(182).std()/np.sqrt(182),\n",
    "    alpha=0.5,\n",
    "    label=\"uncert. 1$\\sigma$\"\n",
    "    )\n",
    "\n",
    "plt.plot(dfs.index,dfs['Extent'].rolling(182).mean(), label='southern')\n",
    "\n",
    "plt.fill_between(\n",
    "    dfs.index,\n",
    "    dfs['Extent'].rolling(182).mean()+dfs['Extent'].rolling(182).std()/np.sqrt(182),\n",
    "    dfs['Extent'].rolling(182).mean()-dfs['Extent'].rolling(182).std()/np.sqrt(182),\n",
    "    alpha=0.5,\n",
    "    label=\"uncert. 1$\\sigma$\"\n",
    "    )\n",
    "\n",
    "plt.legend()\n",
    "plt.title('yearly rolling average')\n",
    "plt.xlabel('date')\n",
    "plt.ylabel('sea ice coverage / $10^6$ km$^2$')"
   ]
  },
  {
   "cell_type": "code",
   "execution_count": null,
   "metadata": {},
   "outputs": [],
   "source": [
    "dtn = dfn\n",
    "dts = dfs\n",
    "\n",
    "plt.figure(figsize=(8,4), dpi=150)\n",
    "\n",
    "plt.plot(dtn.index,dtn['Extent'].rolling(1).mean(), label='northern')\n",
    "plt.plot(dts.index,dts['Extent'].rolling(1).mean(), label='southern')\n",
    "\n",
    "plt.legend()\n",
    "plt.title('full NSIDC dataset')\n",
    "plt.xlabel('date')\n",
    "plt.ylabel('sea ice coverage / $10^6$ km$^2$')"
   ]
  },
  {
   "cell_type": "code",
   "execution_count": null,
   "metadata": {},
   "outputs": [],
   "source": [
    "dtn = dfn[dfn.index > pd.to_datetime('2012-12-31')]\n",
    "dts = dfs[dfs.index > pd.to_datetime('2012-12-31')]\n",
    "\n",
    "plt.figure(figsize=(8,4), dpi=150)\n",
    "\n",
    "plt.plot(dtn.index,dtn['Extent'].rolling(1).mean(), label='northern')\n",
    "plt.plot(dts.index,dts['Extent'].rolling(1).mean(), label='southern')\n",
    "\n",
    "plt.legend()\n",
    "plt.title('recent 5 years of NSIDC dataset')\n",
    "plt.xlabel('date')\n",
    "plt.ylabel('sea ice coverage / $10^6$ km$^2$')"
   ]
  },
  {
   "cell_type": "code",
   "execution_count": null,
   "metadata": {},
   "outputs": [],
   "source": [
    "plt.figure(figsize=(8,4), dpi=150)\n",
    "\n",
    "plt.plot(dtn.index,dtn['Extent'].rolling(182).mean(), label='northern')\n",
    "\n",
    "plt.fill_between(\n",
    "    dtn.index,\n",
    "    dtn['Extent'].rolling(182).mean()+dtn['Extent'].rolling(182).std()/np.sqrt(182),\n",
    "    dtn['Extent'].rolling(182).mean()-dtn['Extent'].rolling(182).std()/np.sqrt(182),\n",
    "    alpha=0.5,\n",
    "    label=\"uncert. 1$\\sigma$\"\n",
    "    )\n",
    "\n",
    "plt.plot(dts.index,dts['Extent'].rolling(182).mean(), label='southern')\n",
    "\n",
    "plt.fill_between(\n",
    "    dts.index,\n",
    "    dts['Extent'].rolling(182).mean()+dts['Extent'].rolling(182).std()/np.sqrt(182),\n",
    "    dts['Extent'].rolling(182).mean()-dts['Extent'].rolling(182).std()/np.sqrt(182),\n",
    "    alpha=0.5,\n",
    "    label=\"uncert. 1$\\sigma$\"\n",
    "    )\n",
    "\n",
    "plt.legend()\n",
    "plt.title('recent 5 years, yearly average')\n",
    "plt.xlabel('date')\n",
    "plt.ylabel('sea ice coverage / $10^6$ km$^2$')"
   ]
  },
  {
   "cell_type": "code",
   "execution_count": null,
   "metadata": {},
   "outputs": [],
   "source": [
    "plt.figure(figsize=(8,4), dpi=150)\n",
    "\n",
    "for y in np.arange(2015,2020)[::-1]:\n",
    "    dt = dfn[\n",
    "        (dfn.index >= pd.to_datetime(str(y)+'-01-01')) & \n",
    "        (dfn.index <  pd.to_datetime(str(y)+'-12-31'))\n",
    "    ]\n",
    "    \n",
    "    plt.plot(\n",
    "        (dt.index-pd.to_datetime(str(y)+'-01-01'))/pd.Timedelta('1d'),\n",
    "        dt['Extent'].rolling(1).mean(),\n",
    "        label=y,\n",
    "    )\n",
    "\n",
    "plt.legend()"
   ]
  },
  {
   "cell_type": "code",
   "execution_count": null,
   "metadata": {},
   "outputs": [],
   "source": [
    "plt.figure(figsize=(8,4), dpi=150)\n",
    "\n",
    "for y in np.arange(2015,2020)[::-1]:\n",
    "    dt = dfs[\n",
    "        (dfs.index >= pd.to_datetime(str(y)+'-01-01')) & \n",
    "        (dfs.index <  pd.to_datetime(str(y)+'-12-31'))\n",
    "    ]\n",
    "    \n",
    "    plt.plot(\n",
    "        (dt.index-pd.to_datetime(str(y)+'-01-01'))/pd.Timedelta('1d'),\n",
    "        dt['Extent'].rolling(1).mean(),\n",
    "        label=y,\n",
    "    )\n",
    "\n",
    "plt.legend()"
   ]
  },
  {
   "cell_type": "code",
   "execution_count": null,
   "metadata": {},
   "outputs": [],
   "source": [
    "np.arange(2020,2009)"
   ]
  },
  {
   "cell_type": "code",
   "execution_count": null,
   "metadata": {},
   "outputs": [],
   "source": [
    "def plot_critical_years(df, c_start, c_end):\n",
    "\n",
    "    plt.figure(figsize=(8,4), dpi=150)\n",
    "\n",
    "    dtn = df[ \n",
    "            (df.index <  pd.to_datetime(str(c_start)+'-12-31'))\n",
    "        ]\n",
    "\n",
    "    daily_avg_val = dtn.resample('1D').interpolate().groupby(\n",
    "        dtn.resample('1D').interpolate().index.dayofyear\n",
    "    ).mean()['Extent']\n",
    "\n",
    "    daily_avg_std = dtn.resample('1D').interpolate().groupby(\n",
    "        dtn.resample('1D').interpolate().index.dayofyear\n",
    "    ).std()['Extent']\n",
    "\n",
    "    plt.plot(\n",
    "        daily_avg_val,\n",
    "        label='daily avg  until 2014'\n",
    "    )\n",
    "\n",
    "    plt.fill_between(\n",
    "        np.arange(0,366),\n",
    "        daily_avg_val+daily_avg_std,\n",
    "        daily_avg_val-daily_avg_std,\n",
    "        alpha=0.5\n",
    "    )\n",
    "\n",
    "    for y in np.arange(c_start,c_end):\n",
    "        dt = df[\n",
    "            (df.index >= pd.to_datetime(str(y)+'-01-01')) & \n",
    "            (df.index <  pd.to_datetime(str(y)+'-12-31'))\n",
    "        ]\n",
    "\n",
    "        plt.plot(\n",
    "            (dt.index-pd.to_datetime(str(y)+'-01-01'))/pd.Timedelta('1d'),\n",
    "            dt['Extent'].rolling(1).mean(),\n",
    "            label=y,\n",
    "        )\n",
    "\n",
    "    plt.legend()\n",
    "    plt.xlabel('days of year')\n",
    "    plt.ylabel('sea ice coverage / $10^6$ km$^2$')"
   ]
  },
  {
   "cell_type": "code",
   "execution_count": null,
   "metadata": {
    "scrolled": false
   },
   "outputs": [],
   "source": [
    "plot_critical_years(dfn,2015,2020)"
   ]
  },
  {
   "cell_type": "code",
   "execution_count": null,
   "metadata": {},
   "outputs": [],
   "source": [
    "plot_critical_years(dfs,2017,2020)"
   ]
  },
  {
   "cell_type": "code",
   "execution_count": null,
   "metadata": {},
   "outputs": [],
   "source": []
  },
  {
   "cell_type": "code",
   "execution_count": null,
   "metadata": {},
   "outputs": [],
   "source": [
    "df = dfn+dfs"
   ]
  },
  {
   "cell_type": "code",
   "execution_count": null,
   "metadata": {},
   "outputs": [],
   "source": [
    "plot_critical_years(df,2015,2020)"
   ]
  },
  {
   "cell_type": "code",
   "execution_count": null,
   "metadata": {},
   "outputs": [],
   "source": []
  }
 ],
 "metadata": {
  "kernelspec": {
   "display_name": "Python 3",
   "language": "python",
   "name": "python3"
  },
  "language_info": {
   "codemirror_mode": {
    "name": "ipython",
    "version": 3
   },
   "file_extension": ".py",
   "mimetype": "text/x-python",
   "name": "python",
   "nbconvert_exporter": "python",
   "pygments_lexer": "ipython3",
   "version": "3.6.8"
  }
 },
 "nbformat": 4,
 "nbformat_minor": 2
}
